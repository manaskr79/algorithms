{
  "nbformat": 4,
  "nbformat_minor": 0,
  "metadata": {
    "colab": {
      "provenance": []
    },
    "kernelspec": {
      "name": "python3",
      "display_name": "Python 3"
    },
    "language_info": {
      "name": "python"
    }
  },
  "cells": [
    {
      "cell_type": "markdown",
      "source": [
        "**Random**: **This** module provides functions for generating random numbers, performing random selections, and other related operations.\n",
        "\n",
        "matplotlib.pyplot: This module is part of the Matplotlib library, primarily used for creating visualizations such as plots, charts, histograms, etc., within Python.\n",
        "\n"
      ],
      "metadata": {
        "id": "T-3gdMyl1d-g"
      }
    },
    {
      "cell_type": "code",
      "execution_count": 1,
      "metadata": {
        "id": "SIwzJ0UO1Zho"
      },
      "outputs": [],
      "source": [
        "import random\n",
        "import matplotlib.pyplot as plt"
      ]
    },
    {
      "cell_type": "code",
      "source": [
        "mapping_dict = dict(zip(range(0,10),range(0,10)))"
      ],
      "metadata": {
        "id": "WETCZGER17RF"
      },
      "execution_count": 2,
      "outputs": []
    },
    {
      "cell_type": "markdown",
      "source": [
        "This line of code creates a dictionary named mapping_dict using the zip() function along with the range() function in Python.\n",
        "\n",
        "range(0, 10) generates a sequence of numbers from 0 to 9 (inclusive). zip(range(0, 10), range(0, 10)) pairs each element from the first range(0, 10) with the corresponding element from the second range(0, 10). This creates tuples like (0, 0), (1, 1), (2, 2), and so on, up to (9, 9). dict() then converts these pairs of tuples into a dictionary where the first value of each tuple serves as the key, and the second value as the value. In this case, it creates a dictionary where each number from 0 to 9 is both a key and a value in the mapping_dict dictionary."
      ],
      "metadata": {
        "id": "q15gQ8SA2DmR"
      }
    },
    {
      "cell_type": "code",
      "source": [
        "mapping_dict"
      ],
      "metadata": {
        "colab": {
          "base_uri": "https://localhost:8080/"
        },
        "id": "dNEUd5BN2Qdr",
        "outputId": "c8cd63e8-9b63-47b1-a2ad-bb06ea42c608"
      },
      "execution_count": 3,
      "outputs": [
        {
          "output_type": "execute_result",
          "data": {
            "text/plain": [
              "{0: 0, 1: 1, 2: 2, 3: 3, 4: 4, 5: 5, 6: 6, 7: 7, 8: 8, 9: 9}"
            ]
          },
          "metadata": {},
          "execution_count": 3
        }
      ]
    },
    {
      "cell_type": "code",
      "source": [
        "for k in mapping_dict.keys():\n",
        "\n",
        "  mapping_dict[k] = str(mapping_dict[k])"
      ],
      "metadata": {
        "id": "WUKcQ8V_2UbU"
      },
      "execution_count": 4,
      "outputs": []
    },
    {
      "cell_type": "markdown",
      "source": [
        "This code iterates through each key in the mapping_dict dictionary and converts the corresponding values to strings.\n",
        "\n",
        "for k in mapping_dict.keys(): initiates a loop that iterates through each key in the mapping_dict dictionary.\n",
        "\n",
        "mapping_dict[k] = str(mapping_dict[k]) takes each value associated with the current key k, converts it to a string using the str() function, and updates the value in the dictionary with the newly converted string. This ensures that all the values in mapping_dict are strings after the loop executes."
      ],
      "metadata": {
        "id": "Bshh5nMy2xHH"
      }
    },
    {
      "cell_type": "code",
      "source": [
        "mapping_dict"
      ],
      "metadata": {
        "colab": {
          "base_uri": "https://localhost:8080/"
        },
        "id": "r1Vz4PRg2oCe",
        "outputId": "6c75c2fc-f403-45fb-f7cf-6de29ed5be34"
      },
      "execution_count": 5,
      "outputs": [
        {
          "output_type": "execute_result",
          "data": {
            "text/plain": [
              "{0: '0',\n",
              " 1: '1',\n",
              " 2: '2',\n",
              " 3: '3',\n",
              " 4: '4',\n",
              " 5: '5',\n",
              " 6: '6',\n",
              " 7: '7',\n",
              " 8: '8',\n",
              " 9: '9'}"
            ]
          },
          "metadata": {},
          "execution_count": 5
        }
      ]
    },
    {
      "cell_type": "code",
      "source": [
        "for i in range(0,26):\n",
        "  mapping_dict[10+i] = chr(65+i)"
      ],
      "metadata": {
        "id": "M2Oy94Fw27uk"
      },
      "execution_count": 6,
      "outputs": []
    },
    {
      "cell_type": "markdown",
      "source": [
        "This code snippet extends the mapping_dict dictionary by adding new key-value pairs.\n",
        "\n",
        "for i in range(0, 26): initiates a loop that iterates through numbers from 0 to 25 (inclusive).\n",
        "mapping_dict[10+i] = chr(65+i) adds new key-value pairs to the mapping_dict dictionary. For each iteration, it assigns a key 10 + i and sets its corresponding value to the character represented by the Unicode code point 65 + i using the chr() function. This code effectively adds values corresponding to the uppercase English letters starting from 'A' (Unicode code point 65) for keys ranging from 10 to 35"
      ],
      "metadata": {
        "id": "D9cpbnZO29WU"
      }
    },
    {
      "cell_type": "code",
      "source": [
        "mapping_dict"
      ],
      "metadata": {
        "colab": {
          "base_uri": "https://localhost:8080/"
        },
        "id": "rEZS74Yn3L01",
        "outputId": "1c5c7ce0-df26-47cc-c953-51df74dfc754"
      },
      "execution_count": 7,
      "outputs": [
        {
          "output_type": "execute_result",
          "data": {
            "text/plain": [
              "{0: '0',\n",
              " 1: '1',\n",
              " 2: '2',\n",
              " 3: '3',\n",
              " 4: '4',\n",
              " 5: '5',\n",
              " 6: '6',\n",
              " 7: '7',\n",
              " 8: '8',\n",
              " 9: '9',\n",
              " 10: 'A',\n",
              " 11: 'B',\n",
              " 12: 'C',\n",
              " 13: 'D',\n",
              " 14: 'E',\n",
              " 15: 'F',\n",
              " 16: 'G',\n",
              " 17: 'H',\n",
              " 18: 'I',\n",
              " 19: 'J',\n",
              " 20: 'K',\n",
              " 21: 'L',\n",
              " 22: 'M',\n",
              " 23: 'N',\n",
              " 24: 'O',\n",
              " 25: 'P',\n",
              " 26: 'Q',\n",
              " 27: 'R',\n",
              " 28: 'S',\n",
              " 29: 'T',\n",
              " 30: 'U',\n",
              " 31: 'V',\n",
              " 32: 'W',\n",
              " 33: 'X',\n",
              " 34: 'Y',\n",
              " 35: 'Z'}"
            ]
          },
          "metadata": {},
          "execution_count": 7
        }
      ]
    },
    {
      "cell_type": "code",
      "source": [
        "sample_size = 500\n",
        "\n",
        "random_numbers = list()\n",
        "\n",
        "for i in range(0,sample_size):\n",
        "\n",
        "  blank_str = str()\n",
        "\n",
        "  random_digit = random.randint(0,35)\n",
        "  blank_str = blank_str + mapping_dict[random_digit]\n",
        "\n",
        "  random_digit = random.randint(0,35)\n",
        "  blank_str = blank_str + mapping_dict[random_digit]\n",
        "\n",
        "  for i in range(0,8):\n",
        "    coin_toss = random.randint(0,1)\n",
        "\n",
        "    if coin_toss == 1:\n",
        "\n",
        "      random_digit = random.randint(0,35)\n",
        "      blank_str = blank_str + mapping_dict[random_digit]\n",
        "\n",
        "    else:\n",
        "      break\n",
        "\n",
        "  random_numbers.append(blank_str)"
      ],
      "metadata": {
        "id": "qqJAierg3OoQ"
      },
      "execution_count": 8,
      "outputs": []
    },
    {
      "cell_type": "markdown",
      "source": [
        "This code generates a list of random alphanumeric strings based on the previously defined mapping_dict.\n",
        "\n",
        "Here's a breakdown of the code:\n",
        "\n",
        "sample_size = 500: Defines the number of random strings to generate as 500.\n",
        "\n",
        "random_numbers = list(): Initializes an empty list named random_numbers to store the generated random strings.\n",
        "\n",
        "The loop for i in range(0, sample_size): generates random strings and appends them to the random_numbers list.\n",
        "\n",
        "Inside the loop:\n",
        "\n",
        "blank_str = str(): Initializes an empty string named blank_str for each iteration.\n",
        "\n",
        "Two random digits are generated using random.randint(0, 35), mapped to alphanumeric characters using the mapping_dict, and concatenated to the blank_str.\n",
        "\n",
        "Another loop (for i in range(0, 8):) executes 8 times:\n",
        "\n",
        "A coin toss (coin_toss = random.randint(0, 1)) generates either 0 or 1.\n",
        "If the coin toss results in 1:\n",
        "Another random digit is selected and appended to blank_str.\n",
        "If the coin toss results in 0:\n",
        "The loop breaks, ending the sequence of additional random digits to be appended to blank_str.\n",
        "The resulting alphanumeric string (blank_str) is appended to the random_numbers list.\n",
        "\n",
        "Overall, this code generates 500 random alphanumeric strings of varying lengths, with each string composed of a random sequence of characters based on the defined mapping_dict. The length of each string ranges from 2 to 11 characters."
      ],
      "metadata": {
        "id": "J9QGEY8T3yB1"
      }
    },
    {
      "cell_type": "code",
      "source": [
        "reverse_mapping_dict = dict()\n",
        "\n",
        "for k in mapping_dict.keys():\n",
        "  reverse_mapping_dict[mapping_dict[k]] = k"
      ],
      "metadata": {
        "id": "HmgHCgrX314-"
      },
      "execution_count": 9,
      "outputs": []
    },
    {
      "cell_type": "markdown",
      "source": [
        "**This code creates a new dictionary called reverse_mapping_dict by reversing the key-value pairs of the mapping_dict dictionary.\n",
        "\n",
        "Here's what the code does:\n",
        "\n",
        "reverse_mapping_dict = dict(): Initializes an empty dictionary named reverse_mapping_dict that will store the reversed key-value pairs.\n",
        "\n",
        "The loop for k in mapping_dict.keys(): iterates through the keys of the mapping_dict dictionary.\n",
        "\n",
        "reverse_mapping_dict[mapping_dict[k]] = k: Assigns the values of mapping_dict as keys in reverse_mapping_dict and sets their corresponding keys from mapping_dict as the values. This effectively reverses the key-value pairs from mapping_dict and stores them in reverse_mapping_dict.\n",
        "After this loop executes, the reverse_mapping_dict contains the reversed key-value pairs of the original mapping_dict, allowing you to look up values to find their corresponding keys.**"
      ],
      "metadata": {
        "id": "jlfmBr0b2aNQ"
      }
    },
    {
      "cell_type": "code",
      "source": [
        "base_frequency = dict()\n",
        "\n",
        "for blank_str in random_numbers:\n",
        "  highest_digit = max(blank_str)\n",
        "  highest_base = reverse_mapping_dict[highest_digit] + 1\n",
        "\n",
        "  if highest_base in base_frequency.keys():\n",
        "    base_frequency[highest_base] += (1/sample_size)\n",
        "  else:\n",
        "    base_frequency[highest_base] = (1/sample_size)"
      ],
      "metadata": {
        "id": "yi2PIsVN4Trp"
      },
      "execution_count": 10,
      "outputs": []
    },
    {
      "cell_type": "markdown",
      "source": [
        "This section of code calculates the frequency of the highest base used in the generated random strings and stores this frequency in a dictionary named base_frequency.\n",
        "\n",
        "Here's a breakdown of what the code accomplishes:\n",
        "\n",
        "base_frequency = dict(): Initializes an empty dictionary called base_frequency to store frequencies of the highest base used in the random strings.\n",
        "\n",
        "The loop for blank_str in random_numbers: iterates through each string in the random_numbers list.\n",
        "\n",
        "highest_digit = max(blank_str): Finds the highest character (digit) in the current blank_str string.\n",
        "\n",
        "highest_base = reverse_mapping_dict[highest_digit] + 1: Retrieves the corresponding key from reverse_mapping_dict using the highest_digit character as the value. Then adds 1 to get the base value. This represents the base of the highest character found in the string.\n",
        "\n",
        "The code checks if the highest_base is already present as a key in the base_frequency dictionary:\n",
        "\n",
        "If present (if highest_base in base_frequency.keys():), it increments the frequency by adding a fraction (1 / sample_size) to the existing frequency.\n",
        "\n",
        "If not present, it initializes the frequency for that base as (1 / sample_size).\n",
        "\n",
        "This code effectively calculates the frequency of the highest base encountered in the generated random strings and stores it in the base_frequency dictionary. The frequency represents how often the highest base occurs among all the generated strings."
      ],
      "metadata": {
        "id": "PxixmNNt4VVl"
      }
    },
    {
      "cell_type": "code",
      "source": [
        "plt.bar(x=base_frequency.keys(),height=base_frequency.values())"
      ],
      "metadata": {
        "colab": {
          "base_uri": "https://localhost:8080/",
          "height": 447
        },
        "id": "lCeTqCuI4pua",
        "outputId": "66096ef1-c975-4976-e0f7-a190f2cf55f7"
      },
      "execution_count": 11,
      "outputs": [
        {
          "output_type": "execute_result",
          "data": {
            "text/plain": [
              "<BarContainer object of 35 artists>"
            ]
          },
          "metadata": {},
          "execution_count": 11
        },
        {
          "output_type": "display_data",
          "data": {
            "text/plain": [
              "<Figure size 640x480 with 1 Axes>"
            ],
            "image/png": "[encoded data removed]"
          },
          "metadata": {}
        }
      ]
    },
    {
      "cell_type": "markdown",
      "source": [
        "This line of code uses Matplotlib to create a bar plot based on the data stored in the base_frequency dictionary.\n",
        "\n",
        "plt.bar(x=base_frequency.keys(), height=base_frequency.values()): This command generates a bar plot using Matplotlib's bar() function.\n",
        "x=base_frequency.keys(): Specifies the x-axis values using the keys of the base_frequency dictionary, representing the different base values encountered.\n",
        "height=base_frequency.values(): Specifies the height of the bars on the y-axis using the corresponding values in the base_frequency dictionary, which represent the frequencies of the different base values.\n",
        "This code creates a bar plot where the x-axis represents the different base values, and the height of the bars corresponds to the frequencies of those bases among the generated random strings."
      ],
      "metadata": {
        "id": "5xy8SLYi4yx_"
      }
    }
  ]
}